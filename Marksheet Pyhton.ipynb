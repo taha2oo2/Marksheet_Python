{
 "cells": [
  {
   "cell_type": "code",
   "execution_count": 1,
   "id": "7bc17902",
   "metadata": {},
   "outputs": [
    {
     "name": "stdout",
     "output_type": "stream",
     "text": [
      "Your nameth\n",
      "Your F_namegh\n",
      "Your maths marks6\n",
      "Your chemistry marks8\n",
      "Your urdu marks8\n",
      "Your coding marks8\n",
      "****************************************************************************************\n",
      "* Mr: th Son of gh\n",
      "* Marks in Maths 6   Marks in chemistry   8\n",
      "* Marks in urdu 8   Marks in coding   8\n",
      "* Total marks:30\n",
      "* Your Percentage:7.5\n",
      "****************************************************************************************\n"
     ]
    }
   ],
   "source": [
    "num0=input('Your name')\n",
    "num1=input('Your F_name')\n",
    "num2=int (input('Your maths marks'))\n",
    "num3=int (input('Your chemistry marks'))\n",
    "num4=int (input('Your urdu marks'))\n",
    "num5=int (input('Your coding marks'))\n",
    "print(\"****************************************************************************************\")\n",
    "print('* Mr: ' + num0 +\" \"+ 'Son of ' +num1)\n",
    "print('* Marks in Maths ' + str(num2) + \"   \"+'Marks in chemistry'  + \"   \" + str(num3) )\n",
    "print('* Marks in urdu ' + str(num4) +\"   \"+ 'Marks in coding'  + \"   \" +str(num5))\n",
    "\n",
    "total=num2+num3+num4+num5\n",
    "print('* Total marks:' +str(total))\n",
    "per=(total/400) *100\n",
    "print('* Your Percentage:'+str(per))\n",
    "print(\"****************************************************************************************\")"
   ]
  },
  {
   "cell_type": "code",
   "execution_count": null,
   "id": "d7d8cd3f",
   "metadata": {},
   "outputs": [],
   "source": []
  }
 ],
 "metadata": {
  "kernelspec": {
   "display_name": "Python 3 (ipykernel)",
   "language": "python",
   "name": "python3"
  },
  "language_info": {
   "codemirror_mode": {
    "name": "ipython",
    "version": 3
   },
   "file_extension": ".py",
   "mimetype": "text/x-python",
   "name": "python",
   "nbconvert_exporter": "python",
   "pygments_lexer": "ipython3",
   "version": "3.9.12"
  }
 },
 "nbformat": 4,
 "nbformat_minor": 5
}
